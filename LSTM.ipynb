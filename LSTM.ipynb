{
  "nbformat": 4,
  "nbformat_minor": 0,
  "metadata": {
    "colab": {
      "provenance": [],
      "authorship_tag": "ABX9TyOy7nUTnOa+xOFOY17UuijO",
      "include_colab_link": true
    },
    "kernelspec": {
      "name": "python3",
      "display_name": "Python 3"
    },
    "language_info": {
      "name": "python"
    }
  },
  "cells": [
    {
      "cell_type": "markdown",
      "metadata": {
        "id": "view-in-github",
        "colab_type": "text"
      },
      "source": [
        "<a href=\"https://colab.research.google.com/github/CobbyHemade/Bitcoin-Price-Data/blob/main/LSTM.ipynb\" target=\"_parent\"><img src=\"https://colab.research.google.com/assets/colab-badge.svg\" alt=\"Open In Colab\"/></a>"
      ]
    },
    {
      "cell_type": "code",
      "execution_count": 8,
      "metadata": {
        "id": "MyqTIRn8z_ji"
      },
      "outputs": [],
      "source": [
        "# Import necessary libraries\n",
        "import pandas as pd\n",
        "import numpy as np\n",
        "import matplotlib.pyplot as plt\n",
        "from sklearn.preprocessing import MinMaxScaler\n",
        "from keras.models import Sequential\n",
        "from keras.layers import LSTM, Dense, Dropout"
      ]
    },
    {
      "cell_type": "code",
      "source": [
        "# Load the Bitcoin price dataset\n",
        "df = pd.read_csv('/content/bitcoin_price copy.csv')"
      ],
      "metadata": {
        "id": "l5aPTd4U0HKk"
      },
      "execution_count": 9,
      "outputs": []
    },
    {
      "cell_type": "code",
      "source": [
        " # Convert the 'Date' column to datetime format\n",
        "df['Date'] = pd.to_datetime(df['Date'])"
      ],
      "metadata": {
        "id": "PQ_WOpNS0VVo"
      },
      "execution_count": 10,
      "outputs": []
    },
    {
      "cell_type": "code",
      "source": [
        "# Set the 'Date' column as the index\n",
        "df.set_index('Date', inplace=True)"
      ],
      "metadata": {
        "id": "UXTpM9dV0Y3Z"
      },
      "execution_count": 11,
      "outputs": []
    },
    {
      "cell_type": "code",
      "source": [
        "# Define the feature and target variables\n",
        "dataset = df['Close'].values.reshape(-1, 1)"
      ],
      "metadata": {
        "id": "k6Bhd6MS0cDt"
      },
      "execution_count": 12,
      "outputs": []
    },
    {
      "cell_type": "code",
      "source": [
        "# Normalize the data using MinMaxScaler\n",
        "scaler = MinMaxScaler(feature_range=(0, 1))\n",
        "dataset_scaled = scaler.fit_transform(dataset)"
      ],
      "metadata": {
        "id": "MGgpLP2D0lBC"
      },
      "execution_count": 13,
      "outputs": []
    },
    {
      "cell_type": "code",
      "source": [
        "# Split the data into training and testing sets\n",
        "training_size = int(len(dataset_scaled) * 0.8)\n",
        "test_size = len(dataset_scaled) - training_size\n",
        "train_data, test_data = dataset_scaled[0:training_size, :], dataset_scaled[training_size:len(dataset_scaled), :]\n"
      ],
      "metadata": {
        "id": "pH0KhmPD1s3V"
      },
      "execution_count": 14,
      "outputs": []
    },
    {
      "cell_type": "code",
      "source": [
        "# Define a function to create a dataset with lookback\n",
        "def create_dataset(dataset, look_back=1):\n",
        "    dataX, dataY = [], []\n",
        "    for i in range(len(dataset) - look_back - 1):\n",
        "        a = dataset[i:(i+look_back), 0]\n",
        "        dataX.append(a)\n",
        "        dataY.append(dataset[i+look_back, 0])\n",
        "    return np.array(dataX), np.array(dataY)"
      ],
      "metadata": {
        "id": "sLRJgKlb1zcP"
      },
      "execution_count": 15,
      "outputs": []
    },
    {
      "cell_type": "code",
      "source": [
        "# Create the training and testing datasets with lookback\n",
        "look_back = 10\n",
        "X_train, y_train = create_dataset(train_data, look_back)\n",
        "X_test, y_test = create_dataset(test_data, look_back)"
      ],
      "metadata": {
        "id": "nFgKLbJa13I8"
      },
      "execution_count": 16,
      "outputs": []
    },
    {
      "cell_type": "code",
      "source": [
        "# Reshape the data to fit the LSTM model\n",
        "X_train = np.reshape(X_train, (X_train.shape[0], X_train.shape[1], 1))\n",
        "X_test = np.reshape(X_test, (X_test.shape[0], X_test.shape[1], 1))"
      ],
      "metadata": {
        "id": "BVvidO3Z16Y1"
      },
      "execution_count": 18,
      "outputs": []
    },
    {
      "cell_type": "code",
      "source": [
        "# Define the LSTM model\n",
        "model = Sequential()\n",
        "model.add(LSTM(units=50, return_sequences=True, input_shape=(X_train.shape[1], 1)))\n",
        "model.add(Dropout(0.2))\n",
        "model.add(LSTM(units=50, return_sequences=True))\n",
        "model.add(Dropout(0.2))\n",
        "model.add(LSTM(units=50))\n",
        "model.add(Dropout(0.2))\n",
        "model.add(Dense(units=1))"
      ],
      "metadata": {
        "id": "0PCCye882F_X"
      },
      "execution_count": 19,
      "outputs": []
    },
    {
      "cell_type": "code",
      "source": [
        "# Compile the model\n",
        "model.compile(optimizer='adam', loss='mean_squared_error')"
      ],
      "metadata": {
        "id": "NfLtKa442KED"
      },
      "execution_count": 20,
      "outputs": []
    },
    {
      "cell_type": "code",
      "source": [
        "# Train the model\n",
        "model.fit(X_train, y_train, epochs=100, batch_size=32)"
      ],
      "metadata": {
        "colab": {
          "base_uri": "https://localhost:8080/"
        },
        "id": "VFPGtTzM2P48",
        "outputId": "4e49c40a-bca8-4a42-d44e-7b16423bfe7b"
      },
      "execution_count": 21,
      "outputs": [
        {
          "metadata": {
            "tags": null
          },
          "name": "stdout",
          "output_type": "stream",
          "text": [
            "Epoch 1/100\n",
            "69/69 [==============================] - 9s 21ms/step - loss: 0.0011\n",
            "Epoch 2/100\n",
            "69/69 [==============================] - 1s 20ms/step - loss: 2.1144e-04\n",
            "Epoch 3/100\n",
            "69/69 [==============================] - 1s 19ms/step - loss: 1.6520e-04\n",
            "Epoch 4/100\n",
            "69/69 [==============================] - 1s 20ms/step - loss: 1.6735e-04\n",
            "Epoch 5/100\n",
            "69/69 [==============================] - 2s 24ms/step - loss: 1.7010e-04\n",
            "Epoch 6/100\n",
            "69/69 [==============================] - 2s 32ms/step - loss: 1.4844e-04\n",
            "Epoch 7/100\n",
            "69/69 [==============================] - 2s 23ms/step - loss: 1.5316e-04\n",
            "Epoch 8/100\n",
            "69/69 [==============================] - 1s 20ms/step - loss: 1.3429e-04\n",
            "Epoch 9/100\n",
            "69/69 [==============================] - 1s 19ms/step - loss: 1.3899e-04\n",
            "Epoch 10/100\n",
            "69/69 [==============================] - 1s 20ms/step - loss: 1.1711e-04\n",
            "Epoch 11/100\n",
            "69/69 [==============================] - 1s 20ms/step - loss: 1.2652e-04\n",
            "Epoch 12/100\n",
            "69/69 [==============================] - 1s 20ms/step - loss: 1.2420e-04\n",
            "Epoch 13/100\n",
            "69/69 [==============================] - 1s 20ms/step - loss: 1.2131e-04\n",
            "Epoch 14/100\n",
            "69/69 [==============================] - 2s 25ms/step - loss: 1.3394e-04\n",
            "Epoch 15/100\n",
            "69/69 [==============================] - 2s 28ms/step - loss: 1.2619e-04\n",
            "Epoch 16/100\n",
            "69/69 [==============================] - 1s 19ms/step - loss: 1.0584e-04\n",
            "Epoch 17/100\n",
            "69/69 [==============================] - 1s 20ms/step - loss: 1.1000e-04\n",
            "Epoch 18/100\n",
            "69/69 [==============================] - 1s 19ms/step - loss: 1.1031e-04\n",
            "Epoch 19/100\n",
            "69/69 [==============================] - 1s 19ms/step - loss: 9.5422e-05\n",
            "Epoch 20/100\n",
            "69/69 [==============================] - 1s 19ms/step - loss: 1.1462e-04\n",
            "Epoch 21/100\n",
            "69/69 [==============================] - 2s 33ms/step - loss: 9.7900e-05\n",
            "Epoch 22/100\n",
            "69/69 [==============================] - 2s 35ms/step - loss: 8.5091e-05\n",
            "Epoch 23/100\n",
            "69/69 [==============================] - 2s 26ms/step - loss: 9.3284e-05\n",
            "Epoch 24/100\n",
            "69/69 [==============================] - 1s 20ms/step - loss: 8.9311e-05\n",
            "Epoch 25/100\n",
            "69/69 [==============================] - 1s 20ms/step - loss: 8.8861e-05\n",
            "Epoch 26/100\n",
            "69/69 [==============================] - 1s 21ms/step - loss: 7.9827e-05\n",
            "Epoch 27/100\n",
            "69/69 [==============================] - 1s 20ms/step - loss: 9.8295e-05\n",
            "Epoch 28/100\n",
            "69/69 [==============================] - 1s 19ms/step - loss: 8.2780e-05\n",
            "Epoch 29/100\n",
            "69/69 [==============================] - 1s 20ms/step - loss: 9.5953e-05\n",
            "Epoch 30/100\n",
            "69/69 [==============================] - 3s 43ms/step - loss: 8.5038e-05\n",
            "Epoch 31/100\n",
            "69/69 [==============================] - 2s 32ms/step - loss: 9.2344e-05\n",
            "Epoch 32/100\n",
            "69/69 [==============================] - 1s 20ms/step - loss: 8.5524e-05\n",
            "Epoch 33/100\n",
            "69/69 [==============================] - 1s 20ms/step - loss: 7.8766e-05\n",
            "Epoch 34/100\n",
            "69/69 [==============================] - 1s 20ms/step - loss: 8.1930e-05\n",
            "Epoch 35/100\n",
            "69/69 [==============================] - 1s 21ms/step - loss: 7.8427e-05\n",
            "Epoch 36/100\n",
            "69/69 [==============================] - 1s 20ms/step - loss: 7.8732e-05\n",
            "Epoch 37/100\n",
            "69/69 [==============================] - 1s 21ms/step - loss: 8.9563e-05\n",
            "Epoch 38/100\n",
            "69/69 [==============================] - 2s 31ms/step - loss: 8.2069e-05\n",
            "Epoch 39/100\n",
            "69/69 [==============================] - 2s 27ms/step - loss: 7.3955e-05\n",
            "Epoch 40/100\n",
            "69/69 [==============================] - 1s 20ms/step - loss: 7.8053e-05\n",
            "Epoch 41/100\n",
            "69/69 [==============================] - 1s 20ms/step - loss: 8.4766e-05\n",
            "Epoch 42/100\n",
            "69/69 [==============================] - 1s 19ms/step - loss: 7.9253e-05\n",
            "Epoch 43/100\n",
            "69/69 [==============================] - 1s 21ms/step - loss: 8.0568e-05\n",
            "Epoch 44/100\n",
            "69/69 [==============================] - 1s 20ms/step - loss: 7.7089e-05\n",
            "Epoch 45/100\n",
            "69/69 [==============================] - 1s 20ms/step - loss: 7.8162e-05\n",
            "Epoch 46/100\n",
            "69/69 [==============================] - 2s 23ms/step - loss: 7.7629e-05\n",
            "Epoch 47/100\n",
            "69/69 [==============================] - 2s 35ms/step - loss: 7.6911e-05\n",
            "Epoch 48/100\n",
            "69/69 [==============================] - 2s 22ms/step - loss: 6.9133e-05\n",
            "Epoch 49/100\n",
            "69/69 [==============================] - 2s 22ms/step - loss: 7.9822e-05\n",
            "Epoch 50/100\n",
            "69/69 [==============================] - 2s 23ms/step - loss: 7.5378e-05\n",
            "Epoch 51/100\n",
            "69/69 [==============================] - 2s 23ms/step - loss: 7.1215e-05\n",
            "Epoch 52/100\n",
            "69/69 [==============================] - 2s 23ms/step - loss: 6.9623e-05\n",
            "Epoch 53/100\n",
            "69/69 [==============================] - 1s 22ms/step - loss: 7.5786e-05\n",
            "Epoch 54/100\n",
            "69/69 [==============================] - 2s 29ms/step - loss: 7.6162e-05\n",
            "Epoch 55/100\n",
            "69/69 [==============================] - 2s 28ms/step - loss: 7.2254e-05\n",
            "Epoch 56/100\n",
            "69/69 [==============================] - 1s 20ms/step - loss: 6.9855e-05\n",
            "Epoch 57/100\n",
            "69/69 [==============================] - 1s 20ms/step - loss: 7.1388e-05\n",
            "Epoch 58/100\n",
            "69/69 [==============================] - 1s 21ms/step - loss: 7.5389e-05\n",
            "Epoch 59/100\n",
            "69/69 [==============================] - 2s 23ms/step - loss: 6.7391e-05\n",
            "Epoch 60/100\n",
            "69/69 [==============================] - 2s 22ms/step - loss: 6.7862e-05\n",
            "Epoch 61/100\n",
            "69/69 [==============================] - 2s 22ms/step - loss: 7.0805e-05\n",
            "Epoch 62/100\n",
            "69/69 [==============================] - 2s 29ms/step - loss: 7.0471e-05\n",
            "Epoch 63/100\n",
            "69/69 [==============================] - 2s 26ms/step - loss: 6.8557e-05\n",
            "Epoch 64/100\n",
            "69/69 [==============================] - 2s 23ms/step - loss: 7.5771e-05\n",
            "Epoch 65/100\n",
            "69/69 [==============================] - 1s 21ms/step - loss: 7.0942e-05\n",
            "Epoch 66/100\n",
            "69/69 [==============================] - 1s 22ms/step - loss: 7.5259e-05\n",
            "Epoch 67/100\n",
            "69/69 [==============================] - 1s 20ms/step - loss: 6.3002e-05\n",
            "Epoch 68/100\n",
            "69/69 [==============================] - 1s 20ms/step - loss: 8.0678e-05\n",
            "Epoch 69/100\n",
            "69/69 [==============================] - 1s 20ms/step - loss: 6.3735e-05\n",
            "Epoch 70/100\n",
            "69/69 [==============================] - 2s 28ms/step - loss: 6.1670e-05\n",
            "Epoch 71/100\n",
            "69/69 [==============================] - 2s 31ms/step - loss: 6.4874e-05\n",
            "Epoch 72/100\n",
            "69/69 [==============================] - 2s 23ms/step - loss: 6.3686e-05\n",
            "Epoch 73/100\n",
            "69/69 [==============================] - 2s 22ms/step - loss: 5.9279e-05\n",
            "Epoch 74/100\n",
            "69/69 [==============================] - 1s 20ms/step - loss: 6.3991e-05\n",
            "Epoch 75/100\n",
            "69/69 [==============================] - 1s 21ms/step - loss: 6.4118e-05\n",
            "Epoch 76/100\n",
            "69/69 [==============================] - 1s 21ms/step - loss: 7.0341e-05\n",
            "Epoch 77/100\n",
            "69/69 [==============================] - 1s 21ms/step - loss: 6.5686e-05\n",
            "Epoch 78/100\n",
            "69/69 [==============================] - 2s 29ms/step - loss: 6.0772e-05\n",
            "Epoch 79/100\n",
            "69/69 [==============================] - 2s 27ms/step - loss: 5.8192e-05\n",
            "Epoch 80/100\n",
            "69/69 [==============================] - 1s 20ms/step - loss: 6.4027e-05\n",
            "Epoch 81/100\n",
            "69/69 [==============================] - 1s 22ms/step - loss: 6.6687e-05\n",
            "Epoch 82/100\n",
            "69/69 [==============================] - 2s 22ms/step - loss: 6.8752e-05\n",
            "Epoch 83/100\n",
            "69/69 [==============================] - 2s 23ms/step - loss: 6.5970e-05\n",
            "Epoch 84/100\n",
            "69/69 [==============================] - 1s 21ms/step - loss: 6.8288e-05\n",
            "Epoch 85/100\n",
            "69/69 [==============================] - 1s 20ms/step - loss: 7.2869e-05\n",
            "Epoch 86/100\n",
            "69/69 [==============================] - 2s 29ms/step - loss: 6.1206e-05\n",
            "Epoch 87/100\n",
            "69/69 [==============================] - 2s 29ms/step - loss: 6.3305e-05\n",
            "Epoch 88/100\n",
            "69/69 [==============================] - 2s 23ms/step - loss: 6.5348e-05\n",
            "Epoch 89/100\n",
            "69/69 [==============================] - 1s 21ms/step - loss: 6.0035e-05\n",
            "Epoch 90/100\n",
            "69/69 [==============================] - 1s 21ms/step - loss: 6.1588e-05\n",
            "Epoch 91/100\n",
            "69/69 [==============================] - 1s 20ms/step - loss: 5.6701e-05\n",
            "Epoch 92/100\n",
            "69/69 [==============================] - 1s 20ms/step - loss: 5.4712e-05\n",
            "Epoch 93/100\n",
            "69/69 [==============================] - 1s 21ms/step - loss: 6.1915e-05\n",
            "Epoch 94/100\n",
            "69/69 [==============================] - 2s 25ms/step - loss: 5.4895e-05\n",
            "Epoch 95/100\n",
            "69/69 [==============================] - 2s 28ms/step - loss: 5.8492e-05\n",
            "Epoch 96/100\n",
            "69/69 [==============================] - 1s 19ms/step - loss: 6.2206e-05\n",
            "Epoch 97/100\n",
            "69/69 [==============================] - 1s 22ms/step - loss: 5.9535e-05\n",
            "Epoch 98/100\n",
            "69/69 [==============================] - 1s 21ms/step - loss: 6.4784e-05\n",
            "Epoch 99/100\n",
            "69/69 [==============================] - 1s 21ms/step - loss: 5.9302e-05\n",
            "Epoch 100/100\n",
            "69/69 [==============================] - 2s 23ms/step - loss: 6.2119e-05\n"
          ]
        },
        {
          "output_type": "execute_result",
          "data": {
            "text/plain": [
              "<keras.callbacks.History at 0x7f256731fc70>"
            ]
          },
          "metadata": {},
          "execution_count": 21
        }
      ]
    },
    {
      "cell_type": "code",
      "source": [
        "# Make predictions on the testing data\n",
        "y_pred = model.predict(X_test)\n",
        "y_pred = scaler.inverse_transform(y_pred)\n"
      ],
      "metadata": {
        "id": "tyOshKOF4PSY",
        "outputId": "9c849586-7a93-4ec5-90ab-3e5765dad036",
        "colab": {
          "base_uri": "https://localhost:8080/"
        }
      },
      "execution_count": 22,
      "outputs": [
        {
          "output_type": "stream",
          "name": "stdout",
          "text": [
            "17/17 [==============================] - 2s 7ms/step\n"
          ]
        }
      ]
    },
    {
      "cell_type": "code",
      "source": [
        "# Visualize the predicted Bitcoin price\n",
        "plt.figure(figsize=(10,5))\n",
        "plt.plot(df.index[training_size+look_back+1:], dataset[training_size+look_back+1:], label='Actual')\n",
        "plt.plot(df.index[training_size+look_back+1:], y_pred, label='Predicted')\n",
        "plt.legend()\n",
        "plt.title('Bitcoin Price Prediction')\n",
        "plt.xlabel('Date')\n",
        "plt.ylabel('Price (USD)')\n",
        "plt.show()"
      ],
      "metadata": {
        "id": "l8vM4E444ZRo",
        "outputId": "375e93b1-844d-4893-969c-bf4969afa6e9",
        "colab": {
          "base_uri": "https://localhost:8080/",
          "height": 350
        }
      },
      "execution_count": 23,
      "outputs": [
        {
          "output_type": "display_data",
          "data": {
            "text/plain": [
              "<Figure size 720x360 with 1 Axes>"
            ],
            "image/png": "[encoded data removed]"
          },
          "metadata": {
            "needs_background": "light"
          }
        }
      ]
    }
  ]
}